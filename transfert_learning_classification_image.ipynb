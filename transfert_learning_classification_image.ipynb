{
  "nbformat": 4,
  "nbformat_minor": 0,
  "metadata": {
    "colab": {
      "name": "transfert_learning_classification_image.ipynb",
      "provenance": [],
      "collapsed_sections": []
    },
    "kernelspec": {
      "name": "python3",
      "display_name": "Python 3"
    },
    "language_info": {
      "name": "python"
    },
    "accelerator": "GPU"
  },
  "cells": [
    {
      "cell_type": "code",
      "metadata": {
        "colab": {
          "base_uri": "https://localhost:8080/",
          "height": 35
        },
        "id": "v_-sgnKhQeEi",
        "outputId": "8e82ec18-c40b-4f0b-f010-6d9354354974"
      },
      "source": [
        "import os\n",
        "import zipfile\n",
        "import numpy as np\n",
        "import tensorflow as tf\n",
        "import matplotlib.pyplot as plt\n",
        "from glob import glob\n",
        "\n",
        "from tqdm import tqdm_notebook\n",
        "from keras.preprocessing.image import ImageDataGenerator\n",
        "from keras.layers import Input, Lambda, Dense, Flatten\n",
        "from keras.models import load_model, Model\n",
        "from keras.applications.vgg16 import VGG16\n",
        "from keras.applications.vgg16 import preprocess_input\n",
        "\n",
        "%matplotlib inline\n",
        "tf.__version__"
      ],
      "execution_count": null,
      "outputs": [
        {
          "output_type": "execute_result",
          "data": {
            "application/vnd.google.colaboratory.intrinsic+json": {
              "type": "string"
            },
            "text/plain": [
              "'2.5.0'"
            ]
          },
          "metadata": {
            "tags": []
          },
          "execution_count": 1
        }
      ]
    },
    {
      "cell_type": "code",
      "metadata": {
        "id": "KP_ArCdcUoEn"
      },
      "source": [
        "data_path='/content/drive/My Drive/data_transferlearning'"
      ],
      "execution_count": null,
      "outputs": []
    },
    {
      "cell_type": "code",
      "metadata": {
        "id": "PXie5guP55rr"
      },
      "source": [
        "\n",
        "import os\n",
        "\n",
        "# augmenter le train data et le stocker dans un dossier \"preview\"\n",
        "classes = [\"Bear\",\"Duck\",\"Eagle\",\"Elephant\",\"Lion\",\"Rabbit\",\"Sheep\",\"Wolf\"]\n",
        "\"\"\"\n",
        "for j in classes:\n",
        "    monRepertoire = \"data_transferlearning/train/\"+j\n",
        "    for file in os.listdir(monRepertoire):\n",
        "        chemin = os.path.join(monRepertoire, file)\n",
        "        #print(file)\n",
        "        img = load_img(chemin) # this is a PIL image\n",
        "        x = img_to_array(img) # this is a Numpy array with shape (3, 150, 150)\n",
        "        x = x.reshape((1,) + x.shape) # this is a Numpy array with shape (1, 3, 150, 150)\n",
        "        #print(x.shape)\n",
        "        i = 0\n",
        "        for batch in datagen.flow(x, batch_size=1, save_to_dir='data_transferlearning/preview/'+j, save_prefix=j.lower(), save_format='jpeg'):\n",
        "            i += 1\n",
        "            if i > 20:\n",
        "                break\n",
        "print(\"end\")\n",
        "\"\"\""
      ],
      "execution_count": null,
      "outputs": []
    },
    {
      "cell_type": "code",
      "metadata": {
        "id": "qttJ4cYnUoJ5"
      },
      "source": [
        "train_dir = os.path.join(data_path, \"preview\")\n",
        "test_dir = os.path.join(data_path, \"validation\")"
      ],
      "execution_count": null,
      "outputs": []
    },
    {
      "cell_type": "code",
      "metadata": {
        "id": "zuF4aTuNUoNz"
      },
      "source": [
        "IMG_SHAPE = (150, 150, 3)"
      ],
      "execution_count": null,
      "outputs": []
    },
    {
      "cell_type": "code",
      "metadata": {
        "id": "lVP42srLUoSL"
      },
      "source": [
        "# récuperer des models pour le transfert learning \"https://keras.io/api/applications/\"\n",
        "base_model = VGG16(input_shape=IMG_SHAPE, include_top=False, weights='imagenet')"
      ],
      "execution_count": null,
      "outputs": []
    },
    {
      "cell_type": "code",
      "metadata": {
        "colab": {
          "base_uri": "https://localhost:8080/"
        },
        "id": "ANNQcgt-U4hX",
        "outputId": "a9cfb41e-0832-4860-c8fc-57c4ee5c455b"
      },
      "source": [
        "base_model.summary()"
      ],
      "execution_count": null,
      "outputs": [
        {
          "output_type": "stream",
          "text": [
            "Model: \"vgg16\"\n",
            "_________________________________________________________________\n",
            "Layer (type)                 Output Shape              Param #   \n",
            "=================================================================\n",
            "input_1 (InputLayer)         [(None, 150, 150, 3)]     0         \n",
            "_________________________________________________________________\n",
            "block1_conv1 (Conv2D)        (None, 150, 150, 64)      1792      \n",
            "_________________________________________________________________\n",
            "block1_conv2 (Conv2D)        (None, 150, 150, 64)      36928     \n",
            "_________________________________________________________________\n",
            "block1_pool (MaxPooling2D)   (None, 75, 75, 64)        0         \n",
            "_________________________________________________________________\n",
            "block2_conv1 (Conv2D)        (None, 75, 75, 128)       73856     \n",
            "_________________________________________________________________\n",
            "block2_conv2 (Conv2D)        (None, 75, 75, 128)       147584    \n",
            "_________________________________________________________________\n",
            "block2_pool (MaxPooling2D)   (None, 37, 37, 128)       0         \n",
            "_________________________________________________________________\n",
            "block3_conv1 (Conv2D)        (None, 37, 37, 256)       295168    \n",
            "_________________________________________________________________\n",
            "block3_conv2 (Conv2D)        (None, 37, 37, 256)       590080    \n",
            "_________________________________________________________________\n",
            "block3_conv3 (Conv2D)        (None, 37, 37, 256)       590080    \n",
            "_________________________________________________________________\n",
            "block3_pool (MaxPooling2D)   (None, 18, 18, 256)       0         \n",
            "_________________________________________________________________\n",
            "block4_conv1 (Conv2D)        (None, 18, 18, 512)       1180160   \n",
            "_________________________________________________________________\n",
            "block4_conv2 (Conv2D)        (None, 18, 18, 512)       2359808   \n",
            "_________________________________________________________________\n",
            "block4_conv3 (Conv2D)        (None, 18, 18, 512)       2359808   \n",
            "_________________________________________________________________\n",
            "block4_pool (MaxPooling2D)   (None, 9, 9, 512)         0         \n",
            "_________________________________________________________________\n",
            "block5_conv1 (Conv2D)        (None, 9, 9, 512)         2359808   \n",
            "_________________________________________________________________\n",
            "block5_conv2 (Conv2D)        (None, 9, 9, 512)         2359808   \n",
            "_________________________________________________________________\n",
            "block5_conv3 (Conv2D)        (None, 9, 9, 512)         2359808   \n",
            "_________________________________________________________________\n",
            "block5_pool (MaxPooling2D)   (None, 4, 4, 512)         0         \n",
            "=================================================================\n",
            "Total params: 14,714,688\n",
            "Trainable params: 14,714,688\n",
            "Non-trainable params: 0\n",
            "_________________________________________________________________\n"
          ],
          "name": "stdout"
        }
      ]
    },
    {
      "cell_type": "code",
      "metadata": {
        "id": "EYHinv7CU4k7"
      },
      "source": [
        "base_model.trainable = False"
      ],
      "execution_count": null,
      "outputs": []
    },
    {
      "cell_type": "code",
      "metadata": {
        "colab": {
          "base_uri": "https://localhost:8080/"
        },
        "id": "bO-XjOk6U4pB",
        "outputId": "2e24b5c4-4386-4f68-d3a4-67259bf1d421"
      },
      "source": [
        "# nombre de sortie du modele\n",
        "base_model.output"
      ],
      "execution_count": null,
      "outputs": [
        {
          "output_type": "execute_result",
          "data": {
            "text/plain": [
              "<KerasTensor: shape=(None, 4, 4, 512) dtype=float32 (created by layer 'block5_pool')>"
            ]
          },
          "metadata": {
            "tags": []
          },
          "execution_count": 8
        }
      ]
    },
    {
      "cell_type": "code",
      "metadata": {
        "id": "HQALOz2mU4tX"
      },
      "source": [
        "# utile pour obtenir le nombre de classes\n",
        "folders = glob(train_dir+'/*')"
      ],
      "execution_count": null,
      "outputs": []
    },
    {
      "cell_type": "code",
      "metadata": {
        "colab": {
          "base_uri": "https://localhost:8080/"
        },
        "id": "_8J0Z3s9U4w7",
        "outputId": "2cb3cdc9-b871-4c0c-9f15-d89968b4a49b"
      },
      "source": [
        "folders"
      ],
      "execution_count": null,
      "outputs": [
        {
          "output_type": "execute_result",
          "data": {
            "text/plain": [
              "['/content/drive/My Drive/data_transferlearning/preview/Bear',\n",
              " '/content/drive/My Drive/data_transferlearning/preview/Duck',\n",
              " '/content/drive/My Drive/data_transferlearning/preview/Eagle',\n",
              " '/content/drive/My Drive/data_transferlearning/preview/Elephant',\n",
              " '/content/drive/My Drive/data_transferlearning/preview/Lion',\n",
              " '/content/drive/My Drive/data_transferlearning/preview/Rabbit',\n",
              " '/content/drive/My Drive/data_transferlearning/preview/Sheep',\n",
              " '/content/drive/My Drive/data_transferlearning/preview/Wolf']"
            ]
          },
          "metadata": {
            "tags": []
          },
          "execution_count": 10
        }
      ]
    },
    {
      "cell_type": "code",
      "metadata": {
        "colab": {
          "base_uri": "https://localhost:8080/"
        },
        "id": "rOeBfwkYVJYH",
        "outputId": "6abc5737-13c3-4adc-ea28-842a92466b8f"
      },
      "source": [
        "# on peut ajouter d'autres couches(layers) \n",
        "x = Flatten()(base_model.output)\n",
        "# x = Dense(1000, activation='relu')(x)\n",
        "#x = base_model.output\n",
        "#le nombre de classes\n",
        "print(\"nombre de classes = \", len(folders))\n",
        "prediction = Dense(len(folders), activation='softmax')(x)"
      ],
      "execution_count": null,
      "outputs": [
        {
          "output_type": "stream",
          "text": [
            "nombre de classes =  8\n"
          ],
          "name": "stdout"
        }
      ]
    },
    {
      "cell_type": "code",
      "metadata": {
        "id": "8GCRTztvVJby"
      },
      "source": [
        "model = Model(inputs=base_model.input, outputs=prediction)"
      ],
      "execution_count": null,
      "outputs": []
    },
    {
      "cell_type": "code",
      "metadata": {
        "colab": {
          "base_uri": "https://localhost:8080/"
        },
        "id": "HRYgRpCNVJfy",
        "outputId": "1b73dad0-04ad-44f3-cf6b-610c782a0541"
      },
      "source": [
        "model.summary()"
      ],
      "execution_count": null,
      "outputs": [
        {
          "output_type": "stream",
          "text": [
            "Model: \"model\"\n",
            "_________________________________________________________________\n",
            "Layer (type)                 Output Shape              Param #   \n",
            "=================================================================\n",
            "input_1 (InputLayer)         [(None, 150, 150, 3)]     0         \n",
            "_________________________________________________________________\n",
            "block1_conv1 (Conv2D)        (None, 150, 150, 64)      1792      \n",
            "_________________________________________________________________\n",
            "block1_conv2 (Conv2D)        (None, 150, 150, 64)      36928     \n",
            "_________________________________________________________________\n",
            "block1_pool (MaxPooling2D)   (None, 75, 75, 64)        0         \n",
            "_________________________________________________________________\n",
            "block2_conv1 (Conv2D)        (None, 75, 75, 128)       73856     \n",
            "_________________________________________________________________\n",
            "block2_conv2 (Conv2D)        (None, 75, 75, 128)       147584    \n",
            "_________________________________________________________________\n",
            "block2_pool (MaxPooling2D)   (None, 37, 37, 128)       0         \n",
            "_________________________________________________________________\n",
            "block3_conv1 (Conv2D)        (None, 37, 37, 256)       295168    \n",
            "_________________________________________________________________\n",
            "block3_conv2 (Conv2D)        (None, 37, 37, 256)       590080    \n",
            "_________________________________________________________________\n",
            "block3_conv3 (Conv2D)        (None, 37, 37, 256)       590080    \n",
            "_________________________________________________________________\n",
            "block3_pool (MaxPooling2D)   (None, 18, 18, 256)       0         \n",
            "_________________________________________________________________\n",
            "block4_conv1 (Conv2D)        (None, 18, 18, 512)       1180160   \n",
            "_________________________________________________________________\n",
            "block4_conv2 (Conv2D)        (None, 18, 18, 512)       2359808   \n",
            "_________________________________________________________________\n",
            "block4_conv3 (Conv2D)        (None, 18, 18, 512)       2359808   \n",
            "_________________________________________________________________\n",
            "block4_pool (MaxPooling2D)   (None, 9, 9, 512)         0         \n",
            "_________________________________________________________________\n",
            "block5_conv1 (Conv2D)        (None, 9, 9, 512)         2359808   \n",
            "_________________________________________________________________\n",
            "block5_conv2 (Conv2D)        (None, 9, 9, 512)         2359808   \n",
            "_________________________________________________________________\n",
            "block5_conv3 (Conv2D)        (None, 9, 9, 512)         2359808   \n",
            "_________________________________________________________________\n",
            "block5_pool (MaxPooling2D)   (None, 4, 4, 512)         0         \n",
            "_________________________________________________________________\n",
            "flatten (Flatten)            (None, 8192)              0         \n",
            "_________________________________________________________________\n",
            "dense (Dense)                (None, 8)                 65544     \n",
            "=================================================================\n",
            "Total params: 14,780,232\n",
            "Trainable params: 65,544\n",
            "Non-trainable params: 14,714,688\n",
            "_________________________________________________________________\n"
          ],
          "name": "stdout"
        }
      ]
    },
    {
      "cell_type": "code",
      "metadata": {
        "id": "oc8gJ0aFVJkL"
      },
      "source": [
        "model.compile(  loss='categorical_crossentropy',\n",
        "  optimizer='adam',\n",
        "  metrics=['accuracy'])"
      ],
      "execution_count": null,
      "outputs": []
    },
    {
      "cell_type": "code",
      "metadata": {
        "colab": {
          "base_uri": "https://localhost:8080/"
        },
        "id": "S0OY0u3pVJnx",
        "outputId": "475f710d-58f3-49d6-e507-dfe20083ad38"
      },
      "source": [
        "# Générez des lots de données d'images de tenseurs avec une augmentation des données en temps réel.\n",
        "train_datagen = ImageDataGenerator(rescale = 1./255,\n",
        "                                   shear_range = 0.2,\n",
        "                                   zoom_range = 0.2,\n",
        "                                   horizontal_flip = True)\n",
        "\n",
        "test_datagen = ImageDataGenerator(rescale = 1./255)\n",
        "\n",
        "training_set = train_datagen.flow_from_directory(train_dir,\n",
        "                                                 target_size = (150, 150),\n",
        "                                                 batch_size = 32,\n",
        "                                                 classes = [\"Bear\",\"Duck\",\"Eagle\",\"Elephant\",\"Lion\",\"Rabbit\",\"Sheep\",\"Wolf\"],\n",
        "                                                 class_mode = 'categorical')\n",
        "\n",
        "test_set = test_datagen.flow_from_directory(test_dir,\n",
        "                                            target_size = (150, 150),\n",
        "                                            batch_size = 32,\n",
        "                                            classes = [\"Bear\",\"Duck\",\"Eagle\",\"Elephant\",\"Lion\",\"Rabbit\",\"Sheep\",\"Wolf\"],\n",
        "                                            class_mode = 'categorical')"
      ],
      "execution_count": null,
      "outputs": [
        {
          "output_type": "stream",
          "text": [
            "Found 12544 images belonging to 8 classes.\n",
            "Found 157 images belonging to 8 classes.\n"
          ],
          "name": "stdout"
        }
      ]
    },
    {
      "cell_type": "code",
      "metadata": {
        "colab": {
          "base_uri": "https://localhost:8080/"
        },
        "id": "_ckxrifZ6XAh",
        "outputId": "3ba78d7a-e515-4327-c994-ecb040492a3a"
      },
      "source": [
        "! pip install tqdm"
      ],
      "execution_count": null,
      "outputs": [
        {
          "output_type": "stream",
          "text": [
            "Requirement already satisfied: tqdm in /usr/local/lib/python3.7/dist-packages (4.41.1)\n"
          ],
          "name": "stdout"
        }
      ]
    },
    {
      "cell_type": "code",
      "metadata": {
        "colab": {
          "base_uri": "https://localhost:8080/"
        },
        "id": "Opn1yQOjs2nr",
        "outputId": "29a06e23-0a0e-4fc3-ad46-a25adcbb2587"
      },
      "source": [
        "model.output"
      ],
      "execution_count": null,
      "outputs": [
        {
          "output_type": "execute_result",
          "data": {
            "text/plain": [
              "<KerasTensor: shape=(None, 8) dtype=float32 (created by layer 'dense')>"
            ]
          },
          "metadata": {
            "tags": []
          },
          "execution_count": 16
        }
      ]
    },
    {
      "cell_type": "code",
      "metadata": {
        "colab": {
          "base_uri": "https://localhost:8080/"
        },
        "id": "bVHEFp00VWBQ",
        "outputId": "1f24cf8b-c465-48e9-eab6-3cc579ca31a3"
      },
      "source": [
        "model.fit_generator(training_set, epochs=50, validation_data=test_set)\n",
        "model.save('/content/drive/My Drive/data_transferlearning/model5_augmentation_data(50epochs).h5')"
      ],
      "execution_count": null,
      "outputs": [
        {
          "output_type": "stream",
          "text": [
            "/usr/local/lib/python3.7/dist-packages/keras/engine/training.py:1915: UserWarning: `Model.fit_generator` is deprecated and will be removed in a future version. Please use `Model.fit`, which supports generators.\n",
            "  warnings.warn('`Model.fit_generator` is deprecated and '\n"
          ],
          "name": "stderr"
        },
        {
          "output_type": "stream",
          "text": [
            "Epoch 1/50\n",
            "392/392 [==============================] - 144s 311ms/step - loss: 0.7435 - accuracy: 0.7552 - val_loss: 0.2531 - val_accuracy: 0.8981\n",
            "Epoch 2/50\n",
            "392/392 [==============================] - 116s 296ms/step - loss: 0.2092 - accuracy: 0.9363 - val_loss: 0.1544 - val_accuracy: 0.9490\n",
            "Epoch 3/50\n",
            "392/392 [==============================] - 117s 299ms/step - loss: 0.1312 - accuracy: 0.9641 - val_loss: 0.1855 - val_accuracy: 0.9236\n",
            "Epoch 4/50\n",
            "392/392 [==============================] - 115s 292ms/step - loss: 0.0946 - accuracy: 0.9755 - val_loss: 0.2106 - val_accuracy: 0.8981\n",
            "Epoch 5/50\n",
            "392/392 [==============================] - 116s 296ms/step - loss: 0.0769 - accuracy: 0.9794 - val_loss: 0.1573 - val_accuracy: 0.9172\n",
            "Epoch 6/50\n",
            "392/392 [==============================] - 115s 293ms/step - loss: 0.0765 - accuracy: 0.9788 - val_loss: 0.1946 - val_accuracy: 0.9236\n",
            "Epoch 7/50\n",
            "392/392 [==============================] - 116s 296ms/step - loss: 0.0555 - accuracy: 0.9877 - val_loss: 0.2152 - val_accuracy: 0.9172\n",
            "Epoch 8/50\n",
            "392/392 [==============================] - 116s 297ms/step - loss: 0.0486 - accuracy: 0.9862 - val_loss: 0.2469 - val_accuracy: 0.9299\n",
            "Epoch 9/50\n",
            "392/392 [==============================] - 116s 295ms/step - loss: 0.0508 - accuracy: 0.9841 - val_loss: 0.1754 - val_accuracy: 0.9299\n",
            "Epoch 10/50\n",
            "392/392 [==============================] - 116s 295ms/step - loss: 0.0382 - accuracy: 0.9901 - val_loss: 0.3339 - val_accuracy: 0.9108\n",
            "Epoch 11/50\n",
            "392/392 [==============================] - 115s 294ms/step - loss: 0.0400 - accuracy: 0.9886 - val_loss: 0.2140 - val_accuracy: 0.9299\n",
            "Epoch 12/50\n",
            "392/392 [==============================] - 114s 290ms/step - loss: 0.0332 - accuracy: 0.9901 - val_loss: 0.2204 - val_accuracy: 0.9299\n",
            "Epoch 13/50\n",
            "392/392 [==============================] - 113s 288ms/step - loss: 0.0330 - accuracy: 0.9913 - val_loss: 0.2425 - val_accuracy: 0.9363\n",
            "Epoch 14/50\n",
            "392/392 [==============================] - 114s 289ms/step - loss: 0.0335 - accuracy: 0.9912 - val_loss: 0.2057 - val_accuracy: 0.9554\n",
            "Epoch 15/50\n",
            "392/392 [==============================] - 113s 289ms/step - loss: 0.0334 - accuracy: 0.9895 - val_loss: 0.3587 - val_accuracy: 0.9045\n",
            "Epoch 16/50\n",
            "392/392 [==============================] - 113s 288ms/step - loss: 0.0266 - accuracy: 0.9926 - val_loss: 0.1906 - val_accuracy: 0.9490\n",
            "Epoch 17/50\n",
            "392/392 [==============================] - 113s 289ms/step - loss: 0.0291 - accuracy: 0.9887 - val_loss: 0.2364 - val_accuracy: 0.9363\n",
            "Epoch 18/50\n",
            "392/392 [==============================] - 113s 287ms/step - loss: 0.0224 - accuracy: 0.9944 - val_loss: 0.2417 - val_accuracy: 0.9108\n",
            "Epoch 19/50\n",
            "392/392 [==============================] - 112s 287ms/step - loss: 0.0247 - accuracy: 0.9929 - val_loss: 0.2297 - val_accuracy: 0.9299\n",
            "Epoch 20/50\n",
            "392/392 [==============================] - 114s 290ms/step - loss: 0.0264 - accuracy: 0.9922 - val_loss: 0.3052 - val_accuracy: 0.9108\n",
            "Epoch 21/50\n",
            "392/392 [==============================] - 115s 293ms/step - loss: 0.0221 - accuracy: 0.9934 - val_loss: 0.2651 - val_accuracy: 0.9427\n",
            "Epoch 22/50\n",
            "392/392 [==============================] - 116s 296ms/step - loss: 0.0190 - accuracy: 0.9942 - val_loss: 0.2734 - val_accuracy: 0.9299\n",
            "Epoch 23/50\n",
            "392/392 [==============================] - 114s 290ms/step - loss: 0.0169 - accuracy: 0.9950 - val_loss: 0.2314 - val_accuracy: 0.9236\n",
            "Epoch 24/50\n",
            "392/392 [==============================] - 114s 290ms/step - loss: 0.0211 - accuracy: 0.9926 - val_loss: 0.2437 - val_accuracy: 0.9363\n",
            "Epoch 25/50\n",
            "392/392 [==============================] - 113s 289ms/step - loss: 0.0134 - accuracy: 0.9970 - val_loss: 0.3653 - val_accuracy: 0.9172\n",
            "Epoch 26/50\n",
            "392/392 [==============================] - 115s 294ms/step - loss: 0.0228 - accuracy: 0.9926 - val_loss: 0.3850 - val_accuracy: 0.9108\n",
            "Epoch 27/50\n",
            "392/392 [==============================] - 114s 291ms/step - loss: 0.0184 - accuracy: 0.9940 - val_loss: 0.1814 - val_accuracy: 0.9490\n",
            "Epoch 28/50\n",
            "392/392 [==============================] - 113s 289ms/step - loss: 0.0225 - accuracy: 0.9923 - val_loss: 0.4074 - val_accuracy: 0.9236\n",
            "Epoch 29/50\n",
            "392/392 [==============================] - 115s 294ms/step - loss: 0.0223 - accuracy: 0.9918 - val_loss: 0.2494 - val_accuracy: 0.9490\n",
            "Epoch 30/50\n",
            "392/392 [==============================] - 117s 299ms/step - loss: 0.0181 - accuracy: 0.9942 - val_loss: 0.3426 - val_accuracy: 0.9236\n",
            "Epoch 31/50\n",
            "392/392 [==============================] - 117s 298ms/step - loss: 0.0188 - accuracy: 0.9930 - val_loss: 0.3392 - val_accuracy: 0.9172\n",
            "Epoch 32/50\n",
            "392/392 [==============================] - 116s 297ms/step - loss: 0.0179 - accuracy: 0.9943 - val_loss: 0.3203 - val_accuracy: 0.9299\n",
            "Epoch 33/50\n",
            "392/392 [==============================] - 117s 298ms/step - loss: 0.0145 - accuracy: 0.9951 - val_loss: 0.3144 - val_accuracy: 0.9299\n",
            "Epoch 34/50\n",
            "392/392 [==============================] - 116s 297ms/step - loss: 0.0129 - accuracy: 0.9953 - val_loss: 0.3242 - val_accuracy: 0.9299\n",
            "Epoch 35/50\n",
            "392/392 [==============================] - 116s 295ms/step - loss: 0.0165 - accuracy: 0.9940 - val_loss: 0.4051 - val_accuracy: 0.9172\n",
            "Epoch 36/50\n",
            "392/392 [==============================] - 111s 284ms/step - loss: 0.0118 - accuracy: 0.9963 - val_loss: 0.2856 - val_accuracy: 0.9427\n",
            "Epoch 37/50\n",
            "392/392 [==============================] - 111s 283ms/step - loss: 0.0159 - accuracy: 0.9938 - val_loss: 0.3683 - val_accuracy: 0.9172\n",
            "Epoch 38/50\n",
            "392/392 [==============================] - 113s 287ms/step - loss: 0.0116 - accuracy: 0.9959 - val_loss: 0.3503 - val_accuracy: 0.9172\n",
            "Epoch 39/50\n",
            "392/392 [==============================] - 116s 297ms/step - loss: 0.0197 - accuracy: 0.9931 - val_loss: 0.3445 - val_accuracy: 0.9427\n",
            "Epoch 40/50\n",
            "392/392 [==============================] - 116s 297ms/step - loss: 0.0083 - accuracy: 0.9977 - val_loss: 0.3391 - val_accuracy: 0.9299\n",
            "Epoch 41/50\n",
            "392/392 [==============================] - 115s 294ms/step - loss: 0.0171 - accuracy: 0.9932 - val_loss: 0.4092 - val_accuracy: 0.9299\n",
            "Epoch 42/50\n",
            "392/392 [==============================] - 117s 298ms/step - loss: 0.0131 - accuracy: 0.9961 - val_loss: 0.3236 - val_accuracy: 0.9299\n",
            "Epoch 43/50\n",
            "392/392 [==============================] - 119s 304ms/step - loss: 0.0122 - accuracy: 0.9955 - val_loss: 0.3533 - val_accuracy: 0.9236\n",
            "Epoch 44/50\n",
            "392/392 [==============================] - 120s 305ms/step - loss: 0.0124 - accuracy: 0.9964 - val_loss: 0.4051 - val_accuracy: 0.9108\n",
            "Epoch 45/50\n",
            "392/392 [==============================] - 114s 292ms/step - loss: 0.0159 - accuracy: 0.9962 - val_loss: 0.3355 - val_accuracy: 0.9363\n",
            "Epoch 46/50\n",
            "392/392 [==============================] - 114s 290ms/step - loss: 0.0084 - accuracy: 0.9967 - val_loss: 0.3593 - val_accuracy: 0.9363\n",
            "Epoch 47/50\n",
            "392/392 [==============================] - 113s 288ms/step - loss: 0.0168 - accuracy: 0.9946 - val_loss: 0.4200 - val_accuracy: 0.9172\n",
            "Epoch 48/50\n",
            "392/392 [==============================] - 113s 288ms/step - loss: 0.0113 - accuracy: 0.9955 - val_loss: 0.3134 - val_accuracy: 0.9363\n",
            "Epoch 49/50\n",
            "392/392 [==============================] - 114s 289ms/step - loss: 0.0117 - accuracy: 0.9961 - val_loss: 0.2767 - val_accuracy: 0.9427\n",
            "Epoch 50/50\n",
            "392/392 [==============================] - 114s 291ms/step - loss: 0.0097 - accuracy: 0.9972 - val_loss: 0.3658 - val_accuracy: 0.9236\n"
          ],
          "name": "stdout"
        }
      ]
    },
    {
      "cell_type": "code",
      "metadata": {
        "colab": {
          "base_uri": "https://localhost:8080/"
        },
        "id": "4Qyc8WQMVWEi",
        "outputId": "c771561b-4b1e-46f0-bb0e-cc6e5a28a2ef"
      },
      "source": [
        "valid_loss, valid_accuracy = model.evaluate_generator(test_set)"
      ],
      "execution_count": null,
      "outputs": [
        {
          "output_type": "stream",
          "text": [
            "/usr/local/lib/python3.7/dist-packages/keras/engine/training.py:1948: UserWarning: `Model.evaluate_generator` is deprecated and will be removed in a future version. Please use `Model.evaluate`, which supports generators.\n",
            "  warnings.warn('`Model.evaluate_generator` is deprecated and '\n"
          ],
          "name": "stderr"
        }
      ]
    },
    {
      "cell_type": "code",
      "metadata": {
        "colab": {
          "base_uri": "https://localhost:8080/"
        },
        "id": "MDwlsoH0VWIj",
        "outputId": "88659c33-ba19-4cb2-afaa-91565a4e92ef"
      },
      "source": [
        "print(\"Accuracy after transfer learning: {}\".format(valid_accuracy))"
      ],
      "execution_count": null,
      "outputs": [
        {
          "output_type": "stream",
          "text": [
            "Accuracy after transfer learning: 0.9235668778419495\n"
          ],
          "name": "stdout"
        }
      ]
    }
  ]
}